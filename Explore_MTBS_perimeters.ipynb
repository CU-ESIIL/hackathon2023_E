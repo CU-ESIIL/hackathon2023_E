{
 "cells": [
  {
   "cell_type": "code",
   "execution_count": 5,
   "id": "8cba6381-de4f-43f8-b30d-63f451fa7d4f",
   "metadata": {},
   "outputs": [],
   "source": [
    "import sys\n",
    "import os\n",
    "import subprocess as sp\n",
    "from osgeo import gdal\n",
    "from osgeo import ogr\n",
    "gdal.UseExceptions()\n"
   ]
  },
  {
   "cell_type": "code",
   "execution_count": 7,
   "id": "1bf683e2-dc24-472d-9eb4-f42c813cb80f",
   "metadata": {},
   "outputs": [
    {
     "data": {
      "text/plain": [
       "0"
      ]
     },
     "execution_count": 7,
     "metadata": {},
     "output_type": "execute_result"
    }
   ],
   "source": [
    "## Download fire perimeter data\n",
    "url = \"https://edcintl.cr.usgs.gov/downloads/sciweb1/shared/MTBS_Fire/data/composite_data/burned_area_extent_shapefile/mtbs_perimeter_data.zip\"\n",
    "\n",
    "sp.call([\"wget\",\"-o\",\"/home/jovyan/data-store/hackathon2023_E/data/mtbs_perimeter_data.zip\", url])"
   ]
  },
  {
   "cell_type": "code",
   "execution_count": null,
   "id": "3eaa2566-1cf7-442b-ba4b-30ec33cef2d0",
   "metadata": {},
   "outputs": [],
   "source": [
    "## "
   ]
  }
 ],
 "metadata": {
  "kernelspec": {
   "display_name": "earth-analytics-python",
   "language": "python",
   "name": "earth-analytics-python"
  },
  "language_info": {
   "codemirror_mode": {
    "name": "ipython",
    "version": 3
   },
   "file_extension": ".py",
   "mimetype": "text/x-python",
   "name": "python",
   "nbconvert_exporter": "python",
   "pygments_lexer": "ipython3",
   "version": "3.9.18"
  }
 },
 "nbformat": 4,
 "nbformat_minor": 5
}
